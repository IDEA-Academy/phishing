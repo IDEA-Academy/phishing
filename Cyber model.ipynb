{
 "cells": [
  {
   "cell_type": "code",
   "execution_count": 1,
   "metadata": {},
   "outputs": [],
   "source": [
    "#set WD\n",
    "import os\n",
    "os.getcwd()\n",
    "os.chdir('C:\\\\Users\\\\AT003502\\\\Documents\\Phishing project')"
   ]
  },
  {
   "cell_type": "code",
   "execution_count": 2,
   "metadata": {},
   "outputs": [],
   "source": [
    "#Import libraries\n",
    "import pandas as pd\n",
    "import numpy as np\n",
    "import sklearn \n",
    "from sklearn.linear_model import LogisticRegression, LogisticRegressionCV\n",
    "from sklearn.model_selection import train_test_split, cross_val_score\n",
    "import matplotlib.pyplot as plt\n",
    "import re\n",
    "%matplotlib notebook\n",
    "from urllib.parse import urlparse\n",
    "import whois\n",
    "import datetime\n",
    "import time\n",
    "#import httplib2\n",
    "import urllib\n",
    "import re\n",
    "from urllib.request import urlopen\n",
    "from bs4 import BeautifulSoup\n",
    "import requests\n",
    "import tldextract\n",
    "#import tldextract\n",
    "import pickle"
   ]
  },
  {
   "cell_type": "code",
   "execution_count": 34,
   "metadata": {},
   "outputs": [],
   "source": [
    "DATA_PATH = 'hmrc.csv'\n",
    "dataframe = pd.read_csv(DATA_PATH, index_col=0,encoding=\"ISO-8859-1\")\n",
    "#dataframe.head"
   ]
  },
  {
   "cell_type": "code",
   "execution_count": null,
   "metadata": {},
   "outputs": [],
   "source": [
    "def df_fun(url):\n",
    "    index=(0,)\n",
    "    columns=['url']\n",
    "    df=pd.DataFrame(url,index=index,columns=columns)\n",
    "    return (df)\n",
    "#dot=\".\"\n",
    "#process_urls(dataframe)\n",
    "#dataframe=df_fun(\"http://sesfl.g./asdlc.com\")\n",
    "#dataframe.head()"
   ]
  },
  {
   "cell_type": "code",
   "execution_count": 4,
   "metadata": {},
   "outputs": [],
   "source": [
    "def process_urls(url):\n",
    "    dot=\".\"\n",
    "    import tldextract\n",
    "    for row_idx, row in dataframe.iterrows():\n",
    "        dataframe.loc[row_idx, 'length'] = (len(row['url']))\n",
    "        dataframe.loc[row_idx, 'RU'] = 1.0 if '.ru' in row['url'] else 0.0\n",
    "        dataframe.loc[row_idx, 'Com'] = 1.0 if '.com' in row['url'] else 0.0\n",
    "        dataframe.loc[row_idx, 'Org'] = 1.0 if '.org' in row['url'] else 0.0\n",
    "        dataframe.loc[row_idx, 'Co'] = 1.0 if '.co.' in row['url'] else 0.0\n",
    "        dataframe.loc[row_idx, 'IP_add'] = 1.0 if re.search( r'[0-9]+(?:\\.[0-9]+){3}',(str(row['url']))) else 0.0\n",
    "        dataframe.loc[row_idx,'has_at_symbol'] = 1.0 if '@' in (str(row['url'])) else 0.0\n",
    "        dataframe.loc[row_idx,'pref_suf']  = 1.0 if '-' in row['url'] else 0.0\n",
    "        dataframe.loc[row_idx,'no_dots'] = (str(row['url'])).count(\".\")\n",
    "        dataframe.loc[row_idx, 'redirection'] = (str(row['url'])).count(\"//\")\n",
    "        dataframe.loc[row_idx, 'subdirectory'] =(str(row['url'])).count(\"/\")\n",
    "        dataframe.loc[row_idx,'domain'] =tldextract.extract(str(row['url'])).domain\n",
    "        dataframe.loc[row_idx,'sub_domain'] =tldextract.extract(str(row['url'])).subdomain\n",
    "        dataframe.loc[row_idx,'suffix'] =tldextract.extract((str(row['url']))).suffix\n",
    "        dataframe.loc[row_idx,'dom_subdom'] =((str(row['domain']))+dot+(str(row['sub_domain'])))\n",
    "        dataframe.loc[row_idx,'dots_per_dom'] = 1 if (str(row['dom_subdom'])).count(\".\") > 1 else 0\n",
    "        dataframe.loc[row_idx,'dashes'] = (str(row['url'])).count(\"-\") \n",
    "        dataframe.loc[row_idx, 'sub_dom_www'] = 1.0 if re.search( r'www',(str(row['sub_domain']))) else 0.0\n",
    "        dataframe.loc[row_idx, 'dom_sub_www'] = 1.0 if re.search( r'www',(str(row['dom_subdom']))) else 0.0\n",
    "            \n",
    "\n"
   ]
  },
  {
   "cell_type": "code",
   "execution_count": 7,
   "metadata": {},
   "outputs": [],
   "source": [
    "process_urls(dataframe)\n"
   ]
  },
  {
   "cell_type": "code",
   "execution_count": 8,
   "metadata": {
    "scrolled": true
   },
   "outputs": [
    {
     "data": {
      "text/plain": [
       "url              0\n",
       "type             0\n",
       "length           0\n",
       "RU               0\n",
       "Com              0\n",
       "Org              0\n",
       "Co               0\n",
       "IP_add           0\n",
       "has_at_symbol    0\n",
       "pref_suf         0\n",
       "no_dots          0\n",
       "redirection      0\n",
       "subdirectory     0\n",
       "domain           0\n",
       "sub_domain       0\n",
       "suffix           0\n",
       "dom_subdom       0\n",
       "dots_per_dom     0\n",
       "dashes           0\n",
       "sub_dom_www      0\n",
       "dom_sub_www      0\n",
       "dtype: int64"
      ]
     },
     "execution_count": 8,
     "metadata": {},
     "output_type": "execute_result"
    }
   ],
   "source": [
    "dataframe.isnull().sum()\n"
   ]
  },
  {
   "cell_type": "code",
   "execution_count": 9,
   "metadata": {},
   "outputs": [],
   "source": [
    "dataframe=dataframe.drop([\"domain\", \"sub_domain\", \"suffix\",\"dom_subdom\",\"url\"], axis=1)\n",
    "#dataframe.head()"
   ]
  },
  {
   "cell_type": "code",
   "execution_count": 10,
   "metadata": {},
   "outputs": [],
   "source": [
    "tag=pd.get_dummies(dataframe[\"type\"],drop_first=True)\n",
    "tag.tail(5)\n",
    "dataframe=pd.concat([dataframe, tag], axis=1)\n",
    "#dataframe.head()"
   ]
  },
  {
   "cell_type": "code",
   "execution_count": 11,
   "metadata": {},
   "outputs": [],
   "source": [
    "dataframe=dataframe.sample(frac=1)"
   ]
  },
  {
   "cell_type": "code",
   "execution_count": 12,
   "metadata": {},
   "outputs": [
    {
     "data": {
      "text/html": [
       "<div>\n",
       "<style scoped>\n",
       "    .dataframe tbody tr th:only-of-type {\n",
       "        vertical-align: middle;\n",
       "    }\n",
       "\n",
       "    .dataframe tbody tr th {\n",
       "        vertical-align: top;\n",
       "    }\n",
       "\n",
       "    .dataframe thead th {\n",
       "        text-align: right;\n",
       "    }\n",
       "</style>\n",
       "<table border=\"1\" class=\"dataframe\">\n",
       "  <thead>\n",
       "    <tr style=\"text-align: right;\">\n",
       "      <th></th>\n",
       "      <th>length</th>\n",
       "      <th>RU</th>\n",
       "      <th>Com</th>\n",
       "      <th>Org</th>\n",
       "      <th>Co</th>\n",
       "      <th>IP_add</th>\n",
       "      <th>has_at_symbol</th>\n",
       "      <th>pref_suf</th>\n",
       "      <th>no_dots</th>\n",
       "      <th>redirection</th>\n",
       "      <th>subdirectory</th>\n",
       "      <th>dots_per_dom</th>\n",
       "      <th>dashes</th>\n",
       "      <th>sub_dom_www</th>\n",
       "      <th>dom_sub_www</th>\n",
       "    </tr>\n",
       "    <tr>\n",
       "      <th>Index</th>\n",
       "      <th></th>\n",
       "      <th></th>\n",
       "      <th></th>\n",
       "      <th></th>\n",
       "      <th></th>\n",
       "      <th></th>\n",
       "      <th></th>\n",
       "      <th></th>\n",
       "      <th></th>\n",
       "      <th></th>\n",
       "      <th></th>\n",
       "      <th></th>\n",
       "      <th></th>\n",
       "      <th></th>\n",
       "      <th></th>\n",
       "    </tr>\n",
       "  </thead>\n",
       "  <tbody>\n",
       "    <tr>\n",
       "      <th>3648</th>\n",
       "      <td>119.0</td>\n",
       "      <td>0.0</td>\n",
       "      <td>0.0</td>\n",
       "      <td>0.0</td>\n",
       "      <td>0.0</td>\n",
       "      <td>0.0</td>\n",
       "      <td>0.0</td>\n",
       "      <td>1.0</td>\n",
       "      <td>3.0</td>\n",
       "      <td>1.0</td>\n",
       "      <td>9.0</td>\n",
       "      <td>0.0</td>\n",
       "      <td>2.0</td>\n",
       "      <td>0.0</td>\n",
       "      <td>0.0</td>\n",
       "    </tr>\n",
       "    <tr>\n",
       "      <th>2714</th>\n",
       "      <td>68.0</td>\n",
       "      <td>0.0</td>\n",
       "      <td>0.0</td>\n",
       "      <td>0.0</td>\n",
       "      <td>0.0</td>\n",
       "      <td>0.0</td>\n",
       "      <td>0.0</td>\n",
       "      <td>0.0</td>\n",
       "      <td>3.0</td>\n",
       "      <td>1.0</td>\n",
       "      <td>5.0</td>\n",
       "      <td>0.0</td>\n",
       "      <td>0.0</td>\n",
       "      <td>0.0</td>\n",
       "      <td>0.0</td>\n",
       "    </tr>\n",
       "    <tr>\n",
       "      <th>3150</th>\n",
       "      <td>32.0</td>\n",
       "      <td>0.0</td>\n",
       "      <td>0.0</td>\n",
       "      <td>0.0</td>\n",
       "      <td>0.0</td>\n",
       "      <td>0.0</td>\n",
       "      <td>0.0</td>\n",
       "      <td>0.0</td>\n",
       "      <td>2.0</td>\n",
       "      <td>1.0</td>\n",
       "      <td>4.0</td>\n",
       "      <td>0.0</td>\n",
       "      <td>0.0</td>\n",
       "      <td>0.0</td>\n",
       "      <td>0.0</td>\n",
       "    </tr>\n",
       "    <tr>\n",
       "      <th>3751</th>\n",
       "      <td>54.0</td>\n",
       "      <td>0.0</td>\n",
       "      <td>0.0</td>\n",
       "      <td>0.0</td>\n",
       "      <td>0.0</td>\n",
       "      <td>0.0</td>\n",
       "      <td>0.0</td>\n",
       "      <td>0.0</td>\n",
       "      <td>3.0</td>\n",
       "      <td>1.0</td>\n",
       "      <td>6.0</td>\n",
       "      <td>0.0</td>\n",
       "      <td>0.0</td>\n",
       "      <td>0.0</td>\n",
       "      <td>0.0</td>\n",
       "    </tr>\n",
       "    <tr>\n",
       "      <th>2389</th>\n",
       "      <td>89.0</td>\n",
       "      <td>0.0</td>\n",
       "      <td>1.0</td>\n",
       "      <td>0.0</td>\n",
       "      <td>0.0</td>\n",
       "      <td>0.0</td>\n",
       "      <td>0.0</td>\n",
       "      <td>0.0</td>\n",
       "      <td>2.0</td>\n",
       "      <td>1.0</td>\n",
       "      <td>3.0</td>\n",
       "      <td>0.0</td>\n",
       "      <td>0.0</td>\n",
       "      <td>0.0</td>\n",
       "      <td>0.0</td>\n",
       "    </tr>\n",
       "  </tbody>\n",
       "</table>\n",
       "</div>"
      ],
      "text/plain": [
       "       length   RU  Com  Org   Co  IP_add  has_at_symbol  pref_suf  no_dots  \\\n",
       "Index                                                                         \n",
       "3648    119.0  0.0  0.0  0.0  0.0     0.0            0.0       1.0      3.0   \n",
       "2714     68.0  0.0  0.0  0.0  0.0     0.0            0.0       0.0      3.0   \n",
       "3150     32.0  0.0  0.0  0.0  0.0     0.0            0.0       0.0      2.0   \n",
       "3751     54.0  0.0  0.0  0.0  0.0     0.0            0.0       0.0      3.0   \n",
       "2389     89.0  0.0  1.0  0.0  0.0     0.0            0.0       0.0      2.0   \n",
       "\n",
       "       redirection  subdirectory  dots_per_dom  dashes  sub_dom_www  \\\n",
       "Index                                                                 \n",
       "3648           1.0           9.0           0.0     2.0          0.0   \n",
       "2714           1.0           5.0           0.0     0.0          0.0   \n",
       "3150           1.0           4.0           0.0     0.0          0.0   \n",
       "3751           1.0           6.0           0.0     0.0          0.0   \n",
       "2389           1.0           3.0           0.0     0.0          0.0   \n",
       "\n",
       "       dom_sub_www  \n",
       "Index               \n",
       "3648           0.0  \n",
       "2714           0.0  \n",
       "3150           0.0  \n",
       "3751           0.0  \n",
       "2389           0.0  "
      ]
     },
     "execution_count": 12,
     "metadata": {},
     "output_type": "execute_result"
    }
   ],
   "source": [
    "X=dataframe.drop([\"type\",\"Malicious\"], axis=1)\n",
    "y= dataframe[\"Malicious\"]\n",
    "X.head(5)"
   ]
  },
  {
   "cell_type": "code",
   "execution_count": 13,
   "metadata": {},
   "outputs": [
    {
     "name": "stderr",
     "output_type": "stream",
     "text": [
      "C:\\Users\\AT003502\\Anaconda3\\lib\\site-packages\\sklearn\\cross_validation.py:41: DeprecationWarning: This module was deprecated in version 0.18 in favor of the model_selection module into which all the refactored classes and functions are moved. Also note that the interface of the new CV iterators are different from that of this module. This module will be removed in 0.20.\n",
      "  \"This module will be removed in 0.20.\", DeprecationWarning)\n"
     ]
    }
   ],
   "source": [
    "from sklearn.cross_validation import train_test_split"
   ]
  },
  {
   "cell_type": "code",
   "execution_count": 14,
   "metadata": {},
   "outputs": [],
   "source": [
    "X_train, X_test, y_train, y_test = train_test_split(X, y, test_size=0.20, random_state=0)"
   ]
  },
  {
   "cell_type": "code",
   "execution_count": 15,
   "metadata": {},
   "outputs": [],
   "source": [
    "from sklearn.linear_model import LogisticRegression"
   ]
  },
  {
   "cell_type": "code",
   "execution_count": 16,
   "metadata": {},
   "outputs": [],
   "source": [
    "logmodel=LogisticRegression()"
   ]
  },
  {
   "cell_type": "code",
   "execution_count": 17,
   "metadata": {},
   "outputs": [
    {
     "data": {
      "text/plain": [
       "LogisticRegression(C=1.0, class_weight=None, dual=False, fit_intercept=True,\n",
       "          intercept_scaling=1, max_iter=100, multi_class='ovr', n_jobs=1,\n",
       "          penalty='l2', random_state=None, solver='liblinear', tol=0.0001,\n",
       "          verbose=0, warm_start=False)"
      ]
     },
     "execution_count": 17,
     "metadata": {},
     "output_type": "execute_result"
    }
   ],
   "source": [
    "logmodel.fit(X_train, y_train)"
   ]
  },
  {
   "cell_type": "code",
   "execution_count": 18,
   "metadata": {},
   "outputs": [],
   "source": [
    "predictions = logmodel.predict(X_test)\n"
   ]
  },
  {
   "cell_type": "code",
   "execution_count": 19,
   "metadata": {},
   "outputs": [],
   "source": [
    "from sklearn.metrics import classification_report"
   ]
  },
  {
   "cell_type": "code",
   "execution_count": 20,
   "metadata": {},
   "outputs": [
    {
     "data": {
      "text/plain": [
       "'             precision    recall  f1-score   support\\n\\n          0       0.82      0.78      0.80       185\\n          1       0.94      0.95      0.94       615\\n\\navg / total       0.91      0.91      0.91       800\\n'"
      ]
     },
     "execution_count": 20,
     "metadata": {},
     "output_type": "execute_result"
    }
   ],
   "source": [
    "classification_report(y_test,predictions)"
   ]
  },
  {
   "cell_type": "code",
   "execution_count": 21,
   "metadata": {},
   "outputs": [],
   "source": [
    "from sklearn.metrics import accuracy_score"
   ]
  },
  {
   "cell_type": "code",
   "execution_count": 22,
   "metadata": {},
   "outputs": [
    {
     "data": {
      "text/plain": [
       "0.91"
      ]
     },
     "execution_count": 22,
     "metadata": {},
     "output_type": "execute_result"
    }
   ],
   "source": [
    "accuracy_score(y_test,predictions)"
   ]
  },
  {
   "cell_type": "markdown",
   "metadata": {},
   "source": [
    "## Improving the model"
   ]
  },
  {
   "cell_type": "code",
   "execution_count": 23,
   "metadata": {},
   "outputs": [],
   "source": [
    "X=dataframe.drop([\"type\",\"Malicious\"], axis=1)\n",
    "X=dataframe.iloc[:,[1,2,3,4,5,6,7,8,9,10,11,12,13,14,15]].values\n",
    "y=dataframe.iloc[:,16].values\n",
    "#dataframe.info()"
   ]
  },
  {
   "cell_type": "code",
   "execution_count": 24,
   "metadata": {},
   "outputs": [
    {
     "data": {
      "text/plain": [
       "array([[119.,   0.,   0., ...,   2.,   0.,   0.],\n",
       "       [ 68.,   0.,   0., ...,   0.,   0.,   0.],\n",
       "       [ 32.,   0.,   0., ...,   0.,   0.,   0.],\n",
       "       ...,\n",
       "       [116.,   0.,   0., ...,   0.,   0.,   0.],\n",
       "       [117.,   0.,   0., ...,   0.,   0.,   0.],\n",
       "       [ 72.,   0.,   0., ...,   3.,   0.,   0.]])"
      ]
     },
     "execution_count": 24,
     "metadata": {},
     "output_type": "execute_result"
    }
   ],
   "source": [
    "X"
   ]
  },
  {
   "cell_type": "code",
   "execution_count": 25,
   "metadata": {},
   "outputs": [
    {
     "data": {
      "text/plain": [
       "array([0, 1, 0, ..., 1, 1, 0], dtype=uint8)"
      ]
     },
     "execution_count": 25,
     "metadata": {},
     "output_type": "execute_result"
    }
   ],
   "source": [
    "y"
   ]
  },
  {
   "cell_type": "code",
   "execution_count": 26,
   "metadata": {},
   "outputs": [],
   "source": [
    "X_train, X_test, y_train, y_test = train_test_split(X, y, test_size=0.20, random_state=0)"
   ]
  },
  {
   "cell_type": "code",
   "execution_count": 27,
   "metadata": {},
   "outputs": [],
   "source": [
    "from sklearn.preprocessing import StandardScaler"
   ]
  },
  {
   "cell_type": "code",
   "execution_count": 28,
   "metadata": {},
   "outputs": [],
   "source": [
    "sc = StandardScaler()\n",
    "X_train=sc.fit_transform(X_train)\n",
    "X_test=sc.transform(X_test)"
   ]
  },
  {
   "cell_type": "code",
   "execution_count": 29,
   "metadata": {},
   "outputs": [
    {
     "data": {
      "text/plain": [
       "LogisticRegression(C=1.0, class_weight=None, dual=False, fit_intercept=True,\n",
       "          intercept_scaling=1, max_iter=100, multi_class='ovr', n_jobs=1,\n",
       "          penalty='l2', random_state=0, solver='liblinear', tol=0.0001,\n",
       "          verbose=0, warm_start=False)"
      ]
     },
     "execution_count": 29,
     "metadata": {},
     "output_type": "execute_result"
    }
   ],
   "source": [
    "model=LogisticRegression(random_state=0)\n",
    "model.fit(X_train,y_train)"
   ]
  },
  {
   "cell_type": "code",
   "execution_count": 30,
   "metadata": {},
   "outputs": [],
   "source": [
    "y_pred=model.predict(X_test)"
   ]
  },
  {
   "cell_type": "code",
   "execution_count": 31,
   "metadata": {},
   "outputs": [
    {
     "data": {
      "text/plain": [
       "0.91"
      ]
     },
     "execution_count": 31,
     "metadata": {},
     "output_type": "execute_result"
    }
   ],
   "source": [
    "accuracy_score(y_test,predictions)"
   ]
  },
  {
   "cell_type": "markdown",
   "metadata": {},
   "source": [
    "### Pickle the model"
   ]
  },
  {
   "cell_type": "code",
   "execution_count": 32,
   "metadata": {},
   "outputs": [],
   "source": [
    "filename='model_1.sav'\n",
    "pkl_filename = \"pickle_model.pkl\""
   ]
  },
  {
   "cell_type": "code",
   "execution_count": 33,
   "metadata": {},
   "outputs": [
    {
     "ename": "PermissionError",
     "evalue": "[Errno 13] Permission denied: 'model.pkl'",
     "output_type": "error",
     "traceback": [
      "\u001b[1;31m---------------------------------------------------------------------------\u001b[0m",
      "\u001b[1;31mPermissionError\u001b[0m                           Traceback (most recent call last)",
      "\u001b[1;32m<ipython-input-33-2d34f511224b>\u001b[0m in \u001b[0;36m<module>\u001b[1;34m()\u001b[0m\n\u001b[0;32m      1\u001b[0m \u001b[1;32mimport\u001b[0m \u001b[0mpickle\u001b[0m\u001b[1;33m\u001b[0m\u001b[0m\n\u001b[0;32m      2\u001b[0m \u001b[1;32mimport\u001b[0m \u001b[0mpickle\u001b[0m\u001b[1;33m\u001b[0m\u001b[0m\n\u001b[1;32m----> 3\u001b[1;33m \u001b[0mf\u001b[0m \u001b[1;33m=\u001b[0m \u001b[0mopen\u001b[0m\u001b[1;33m(\u001b[0m\u001b[1;34m'model.pkl'\u001b[0m\u001b[1;33m,\u001b[0m \u001b[1;34m'wb'\u001b[0m\u001b[1;33m)\u001b[0m\u001b[1;33m\u001b[0m\u001b[0m\n\u001b[0m\u001b[0;32m      4\u001b[0m \u001b[0mpickle\u001b[0m\u001b[1;33m.\u001b[0m\u001b[0mdump\u001b[0m\u001b[1;33m(\u001b[0m\u001b[0mmodel\u001b[0m\u001b[1;33m,\u001b[0m \u001b[0mf\u001b[0m\u001b[1;33m)\u001b[0m\u001b[1;33m\u001b[0m\u001b[0m\n\u001b[0;32m      5\u001b[0m \u001b[0mf\u001b[0m\u001b[1;33m.\u001b[0m\u001b[0mclose\u001b[0m\u001b[1;33m(\u001b[0m\u001b[1;33m)\u001b[0m\u001b[1;33m\u001b[0m\u001b[0m\n",
      "\u001b[1;31mPermissionError\u001b[0m: [Errno 13] Permission denied: 'model.pkl'"
     ]
    }
   ],
   "source": [
    "import pickle\n",
    "import pickle\n",
    "f = open('model.pkl', 'wb')\n",
    "pickle.dump(model, f)\n",
    "f.close()\n"
   ]
  }
 ],
 "metadata": {
  "kernelspec": {
   "display_name": "Python 3",
   "language": "python",
   "name": "python3"
  },
  "language_info": {
   "codemirror_mode": {
    "name": "ipython",
    "version": 3
   },
   "file_extension": ".py",
   "mimetype": "text/x-python",
   "name": "python",
   "nbconvert_exporter": "python",
   "pygments_lexer": "ipython3",
   "version": "3.6.5"
  }
 },
 "nbformat": 4,
 "nbformat_minor": 2
}
