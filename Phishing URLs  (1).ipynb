{
 "cells": [
  {
   "cell_type": "code",
   "execution_count": 1,
   "metadata": {},
   "outputs": [],
   "source": [
    "#set WD\n",
    "import os\n",
    "os.getcwd()\n",
    "os.chdir('C:\\\\Users\\\\AT003502\\\\Documents\\Phishing project')"
   ]
  },
  {
   "cell_type": "code",
   "execution_count": null,
   "metadata": {},
   "outputs": [],
   "source": []
  },
  {
   "cell_type": "code",
   "execution_count": 89,
   "metadata": {},
   "outputs": [
    {
     "ename": "ModuleNotFoundError",
     "evalue": "No module named 'httplib2'",
     "output_type": "error",
     "traceback": [
      "\u001b[1;31m---------------------------------------------------------------------------\u001b[0m",
      "\u001b[1;31mModuleNotFoundError\u001b[0m                       Traceback (most recent call last)",
      "\u001b[1;32m<ipython-input-89-b54589f4909a>\u001b[0m in \u001b[0;36m<module>\u001b[1;34m()\u001b[0m\n\u001b[0;32m     12\u001b[0m \u001b[1;32mimport\u001b[0m \u001b[0mdatetime\u001b[0m\u001b[1;33m\u001b[0m\u001b[0m\n\u001b[0;32m     13\u001b[0m \u001b[1;32mimport\u001b[0m \u001b[0mtime\u001b[0m\u001b[1;33m\u001b[0m\u001b[0m\n\u001b[1;32m---> 14\u001b[1;33m \u001b[1;32mimport\u001b[0m \u001b[0mhttplib2\u001b[0m\u001b[1;33m\u001b[0m\u001b[0m\n\u001b[0m\u001b[0;32m     15\u001b[0m \u001b[1;32mimport\u001b[0m \u001b[0murllib\u001b[0m\u001b[1;33m\u001b[0m\u001b[0m\n\u001b[0;32m     16\u001b[0m \u001b[1;32mimport\u001b[0m \u001b[0mre\u001b[0m\u001b[1;33m\u001b[0m\u001b[0m\n",
      "\u001b[1;31mModuleNotFoundError\u001b[0m: No module named 'httplib2'"
     ]
    }
   ],
   "source": [
    "#Import libraries\n",
    "import pandas as pd\n",
    "import numpy as np\n",
    "import sklearn \n",
    "from sklearn.linear_model import LogisticRegression, LogisticRegressionCV\n",
    "from sklearn.model_selection import train_test_split, cross_val_score\n",
    "import matplotlib.pyplot as plt\n",
    "import re\n",
    "%matplotlib notebook\n",
    "from urllib.parse import urlparse\n",
    "import whois\n",
    "import datetime\n",
    "import time\n",
    "#import httplib2\n",
    "import urllib\n",
    "import re\n",
    "from urllib.request import urlopen\n",
    "from bs4 import BeautifulSoup\n",
    "import requests"
   ]
  },
  {
   "cell_type": "code",
   "execution_count": 4,
   "metadata": {},
   "outputs": [],
   "source": [
    "#Data preprocessing"
   ]
  },
  {
   "cell_type": "code",
   "execution_count": 76,
   "metadata": {},
   "outputs": [],
   "source": [
    "DATA_PATH = 'URL.csv'\n",
    "#DATA_PATH='verified_online.csv'\n",
    "dataframe = pd.read_csv(DATA_PATH, index_col=0)"
   ]
  },
  {
   "cell_type": "code",
   "execution_count": 1,
   "metadata": {},
   "outputs": [
    {
     "ename": "NameError",
     "evalue": "name 'dataframe' is not defined",
     "output_type": "error",
     "traceback": [
      "\u001b[1;31m---------------------------------------------------------------------------\u001b[0m",
      "\u001b[1;31mNameError\u001b[0m                                 Traceback (most recent call last)",
      "\u001b[1;32m<ipython-input-1-89fdfbcb1dee>\u001b[0m in \u001b[0;36m<module>\u001b[1;34m()\u001b[0m\n\u001b[1;32m----> 1\u001b[1;33m \u001b[0mdataframe\u001b[0m\u001b[1;33m.\u001b[0m\u001b[0msample\u001b[0m\u001b[1;33m(\u001b[0m\u001b[0mn\u001b[0m\u001b[1;33m=\u001b[0m\u001b[1;36m5\u001b[0m\u001b[1;33m)\u001b[0m\u001b[1;33m\u001b[0m\u001b[0m\n\u001b[0m\u001b[0;32m      2\u001b[0m \u001b[0mdataframe\u001b[0m\u001b[1;33m.\u001b[0m\u001b[0mhead\u001b[0m\u001b[1;33m(\u001b[0m\u001b[1;33m)\u001b[0m\u001b[1;33m\u001b[0m\u001b[0m\n",
      "\u001b[1;31mNameError\u001b[0m: name 'dataframe' is not defined"
     ]
    }
   ],
   "source": [
    "dataframe.sample(n=5)\n",
    "dataframe.head()"
   ]
  },
  {
   "cell_type": "code",
   "execution_count": 7,
   "metadata": {},
   "outputs": [],
   "source": [
    "for row_idx, row in dataframe.iterrows():\n",
    "    dataframe.loc[row_idx, 'LENGTH'] = len(row['url'])"
   ]
  },
  {
   "cell_type": "code",
   "execution_count": 8,
   "metadata": {},
   "outputs": [
    {
     "data": {
      "text/html": [
       "<div>\n",
       "<style scoped>\n",
       "    .dataframe tbody tr th:only-of-type {\n",
       "        vertical-align: middle;\n",
       "    }\n",
       "\n",
       "    .dataframe tbody tr th {\n",
       "        vertical-align: top;\n",
       "    }\n",
       "\n",
       "    .dataframe thead th {\n",
       "        text-align: right;\n",
       "    }\n",
       "</style>\n",
       "<table border=\"1\" class=\"dataframe\">\n",
       "  <thead>\n",
       "    <tr style=\"text-align: right;\">\n",
       "      <th></th>\n",
       "      <th>url</th>\n",
       "      <th>list</th>\n",
       "      <th>LENGTH</th>\n",
       "    </tr>\n",
       "    <tr>\n",
       "      <th>Index</th>\n",
       "      <th></th>\n",
       "      <th></th>\n",
       "      <th></th>\n",
       "    </tr>\n",
       "  </thead>\n",
       "  <tbody>\n",
       "    <tr>\n",
       "      <th>679</th>\n",
       "      <td>http://stan.asia.com</td>\n",
       "      <td>1</td>\n",
       "      <td>20.0</td>\n",
       "    </tr>\n",
       "    <tr>\n",
       "      <th>627</th>\n",
       "      <td>http://1br.net</td>\n",
       "      <td>1</td>\n",
       "      <td>14.0</td>\n",
       "    </tr>\n",
       "    <tr>\n",
       "      <th>726</th>\n",
       "      <td>http://givemeknol.com</td>\n",
       "      <td>1</td>\n",
       "      <td>21.0</td>\n",
       "    </tr>\n",
       "    <tr>\n",
       "      <th>665</th>\n",
       "      <td>http://moonlight.asia.com</td>\n",
       "      <td>1</td>\n",
       "      <td>25.0</td>\n",
       "    </tr>\n",
       "    <tr>\n",
       "      <th>549</th>\n",
       "      <td>http://amazon.cn</td>\n",
       "      <td>0</td>\n",
       "      <td>16.0</td>\n",
       "    </tr>\n",
       "  </tbody>\n",
       "</table>\n",
       "</div>"
      ],
      "text/plain": [
       "                             url  list  LENGTH\n",
       "Index                                         \n",
       "679         http://stan.asia.com     1    20.0\n",
       "627               http://1br.net     1    14.0\n",
       "726        http://givemeknol.com     1    21.0\n",
       "665    http://moonlight.asia.com     1    25.0\n",
       "549             http://amazon.cn     0    16.0"
      ]
     },
     "execution_count": 8,
     "metadata": {},
     "output_type": "execute_result"
    }
   ],
   "source": [
    "dataframe.sample(n=5)"
   ]
  },
  {
   "cell_type": "code",
   "execution_count": 9,
   "metadata": {},
   "outputs": [
    {
     "data": {
      "text/plain": [
       "Text(0,0.5,'Label')"
      ]
     },
     "execution_count": 9,
     "metadata": {},
     "output_type": "execute_result"
    },
    {
     "data": {
      "image/png": "[encoded data removed]",
      "text/plain": [
       "<Figure size 432x288 with 1 Axes>"
      ]
     },
     "metadata": {},
     "output_type": "display_data"
    }
   ],
   "source": [
    "plt.plot(dataframe.LENGTH.values,  dataframe.list.values, 'r*', markersize='1')\n",
    "plt.title('Length of a URL vs Whitelist Label')\n",
    "plt.xlabel('Length')\n",
    "plt.ylabel('Label')"
   ]
  },
  {
   "cell_type": "markdown",
   "metadata": {},
   "source": [
    "### Feature Exraction for URLs"
   ]
  },
  {
   "cell_type": "code",
   "execution_count": 10,
   "metadata": {},
   "outputs": [],
   "source": [
    "#suffix ends in RU\n",
    "for row_idx, row in dataframe.iterrows():\n",
    "    dataframe.loc[row_idx, 'RU'] = 1.0 if '.ru' in row['url'] else 0.0"
   ]
  },
  {
   "cell_type": "code",
   "execution_count": 11,
   "metadata": {},
   "outputs": [],
   "source": [
    "#suffix ends in .com\n",
    "for row_idx, row in dataframe.iterrows():\n",
    "    dataframe.loc[row_idx, 'Com'] = 1.0 if '.com' in row['url'] else 0.0"
   ]
  },
  {
   "cell_type": "code",
   "execution_count": 12,
   "metadata": {},
   "outputs": [],
   "source": [
    "#suffix ends in .org\n",
    "for row_idx, row in dataframe.iterrows():\n",
    "    dataframe.loc[row_idx, 'Org'] = 1.0 if '.org' in row['url'] else 0.0"
   ]
  },
  {
   "cell_type": "code",
   "execution_count": 13,
   "metadata": {},
   "outputs": [],
   "source": [
    "#suffix ends in .co\n",
    "for row_idx, row in dataframe.iterrows():\n",
    "    dataframe.loc[row_idx, 'Co'] = 1.0 if '.co.' in row['url'] else 0.0"
   ]
  },
  {
   "cell_type": "code",
   "execution_count": 14,
   "metadata": {},
   "outputs": [],
   "source": [
    "#IP address in the url\n",
    "for row_idx, row in dataframe.iterrows():\n",
    "    dataframe.loc[row_idx, 'IP_add'] = 1.0 if re.search( r'[0-9]+(?:\\.[0-9]+){3}',(str(row['url']))) else 0.0\n"
   ]
  },
  {
   "cell_type": "code",
   "execution_count": 15,
   "metadata": {},
   "outputs": [],
   "source": [
    "# Check for @ symbol\n",
    "for row_idx, row in dataframe.iterrows():\n",
    "    dataframe.loc[row_idx,'has_at_symbol'] = 1.0 if '@' in (str(row['url'])) else 0.0"
   ]
  },
  {
   "cell_type": "code",
   "execution_count": 16,
   "metadata": {},
   "outputs": [],
   "source": [
    "# Prefix Suffix (i.e. has - in domain name)\n",
    "for row_idx, row in dataframe.iterrows():\n",
    "    dataframe.loc[row_idx,'pref_suf'] = dataframe.loc['-'] = 1.0 if '-' in row['url'] else 0.0"
   ]
  },
  {
   "cell_type": "code",
   "execution_count": 17,
   "metadata": {},
   "outputs": [],
   "source": [
    "# Count number of dots\n",
    "for row_idx, row in dataframe.iterrows():\n",
    "    dataframe.loc[row_idx,'no_dots'] = (str(row['url'])).count(\".\")"
   ]
  },
  {
   "cell_type": "code",
   "execution_count": 18,
   "metadata": {},
   "outputs": [],
   "source": [
    "#double slash redirection\n",
    "for row_idx, row in dataframe.iterrows():\n",
    "    dataframe.loc[row_idx, 'redirection'] =  1 if (str(row['url'])).find(\"//\") >8 else 0\n"
   ]
  },
  {
   "cell_type": "code",
   "execution_count": 9,
   "metadata": {},
   "outputs": [],
   "source": [
    "#count number subdirectories in ur;\n",
    "for row_idx, row in dataframe.iterrows():\n",
    "    dataframe.loc[row_idx, 'subdirectory'] =(str(row['url'])).count(\"/\") "
   ]
  },
  {
   "cell_type": "code",
   "execution_count": 45,
   "metadata": {},
   "outputs": [],
   "source": [
    "#remove http:// for use with some modules\n",
    "for row_idx, row in dataframe.iterrows():\n",
    "    dataframe.loc[row_idx, '_http_remv'] = (str(row['sock_test'])).replace (\"http://\",\"\")"
   ]
  },
  {
   "cell_type": "code",
   "execution_count": 19,
   "metadata": {},
   "outputs": [],
   "source": [
    "#domain\n",
    "#t=\"http://google.com\"\n",
    "import tldextract\n",
    "#tldextract.extract(t).domain\n",
    "for row_idx, row in dataframe.iterrows():\n",
    "    dataframe.loc[row_idx,'domain'] =tldextract.extract((str(row['url']))).domain"
   ]
  },
  {
   "cell_type": "code",
   "execution_count": 20,
   "metadata": {},
   "outputs": [],
   "source": [
    "#subdomain\n",
    "import tldextract\n",
    "for row_idx, row in dataframe.iterrows():\n",
    "    dataframe.loc[row_idx,'sub_domain'] =tldextract.extract((str(row['url']))).subdomain"
   ]
  },
  {
   "cell_type": "code",
   "execution_count": 21,
   "metadata": {},
   "outputs": [],
   "source": [
    "#suffix\n",
    "\n",
    "import tldextract\n",
    "for row_idx, row in dataframe.iterrows():\n",
    "    dataframe.loc[row_idx,'suffix'] =tldextract.extract((str(row['url']))).suffix"
   ]
  },
  {
   "cell_type": "code",
   "execution_count": 22,
   "metadata": {},
   "outputs": [],
   "source": [
    "#domain+subdomain\n",
    "dot=\".\"\n",
    "for row_idx, row in dataframe.iterrows():\n",
    "    dataframe.loc[row_idx,'dom_subdom'] =((str(row['domain']))+dot+(str(row['sub_domain'])))"
   ]
  },
  {
   "cell_type": "code",
   "execution_count": 23,
   "metadata": {},
   "outputs": [],
   "source": [
    "#number dots in dom+subdoman\n",
    "for row_idx, row in dataframe.iterrows():\n",
    "    dataframe.loc[row_idx,'dots_per_dom'] = 1 if (str(row['dom_subdom'])).count(\".\") > 1 else 0"
   ]
  },
  {
   "cell_type": "code",
   "execution_count": 24,
   "metadata": {},
   "outputs": [],
   "source": [
    "#number dashes in url\n",
    "for row_idx, row in dataframe.iterrows():\n",
    "    dataframe.loc[row_idx,'dashes'] = (str(row['url'])).count(\"-\") "
   ]
  },
  {
   "cell_type": "code",
   "execution_count": 44,
   "metadata": {},
   "outputs": [],
   "source": [
    "quotes=\"'\"\n",
    "for row_idx, row in dataframe.iterrows():\n",
    "    dataframe.loc[row_idx, 'sock_test'] =  (quotes + (str(row['url'])) + quotes)"
   ]
  },
  {
   "cell_type": "code",
   "execution_count": 26,
   "metadata": {},
   "outputs": [],
   "source": [
    "#server info\n",
    "import whois\n",
    "for row_idx, row in dataframe.iterrows():\n",
    "    try:\n",
    "        dataframe.loc[row_idx,'server_info'] =whois.whois(str(row['url'])).whois_server\n",
    "    except: \n",
    "        ConnectionResetError=\"connection error\"\n",
    "      #  whois_server.error = \"error\" "
   ]
  },
  {
   "cell_type": "code",
   "execution_count": 27,
   "metadata": {},
   "outputs": [],
   "source": [
    "#server info\n",
    "import whois\n",
    "for row_idx, row in dataframe.iterrows():\n",
    "    try:\n",
    "        dataframe.loc[row_idx,'org_info'] =whois.whois(str(row['url'])).org\n",
    "    except: \n",
    "        ConnectionResetError=\"connection error\"\n",
    "      #  whois_server.error = \"error\" "
   ]
  },
  {
   "cell_type": "code",
   "execution_count": 28,
   "metadata": {},
   "outputs": [],
   "source": [
    "#server info\n",
    "import whois\n",
    "for row_idx, row in dataframe.iterrows():\n",
    "    try:\n",
    "        dataframe.loc[row_idx,'exp_date'] =whois.whois(str(row['url'])).expiration_date\n",
    "    except:\n",
    "        ConnectionResetError=\"connection error\"\n",
    "      #  whois_server.error = \"error\""
   ]
  },
  {
   "cell_type": "code",
   "execution_count": 33,
   "metadata": {},
   "outputs": [],
   "source": [
    "#server info\n",
    "import whois\n",
    "for row_idx, row in dataframe.iterrows():\n",
    "    try:\n",
    "        dataframe.loc[row_idx,'creation_date'] =whois.whois(str(row['url'])).creation_date[:1]\n",
    "    except:\n",
    "        ConnectionResetError=\"connection error\"\n",
    "      #  whois_server.error = \"error\""
   ]
  },
  {
   "cell_type": "code",
   "execution_count": 21,
   "metadata": {},
   "outputs": [],
   "source": [
    "#org info\n",
    "import whois\n",
    "for row_idx, row in dataframe.iterrows():\n",
    "    try:\n",
    "        daraframe.loc[row_idx,'org_info'] =whois.whois((row['url'])).org\n",
    "    except: \n",
    "        ConnectionResetError=\"connection error\"\n",
    "      #  whois_server.error = \"error\" "
   ]
  },
  {
   "cell_type": "code",
   "execution_count": 3,
   "metadata": {},
   "outputs": [],
   "source": [
    "DATA_PATH = 'dataframe.csv'\n",
    "#DATA_PATH='verified_online.csv'\n",
    "dataframe = pd.read_csv(DATA_PATH, index_col=0)"
   ]
  },
  {
   "cell_type": "code",
   "execution_count": 4,
   "metadata": {},
   "outputs": [],
   "source": [
    "#domain info\n",
    "import whois\n",
    "for row_idx, row in dataframe.iterrows():\n",
    "    try:\n",
    "        dataframe.loc[row_idx,'domain_info'] =whois.whois((row['url'])).domain_name\n",
    "    except: \n",
    "        ConnectionResetError=\"connection error\"\n",
    "      #  whois_server.error = \"error\" "
   ]
  },
  {
   "cell_type": "code",
   "execution_count": 5,
   "metadata": {},
   "outputs": [],
   "source": [
    "#check to see if organisation name matches name in domain\n",
    "for row_idx, row in dataframe.iterrows():\n",
    "    try:\n",
    "        dataframe.loc[row_idx,'org_dom_match'] = 1.0 if re.search((str(row['domain']).lower()),(str(row['org_info']).lower())) else 0.0\n",
    "    except:\n",
    "        continue"
   ]
  },
  {
   "cell_type": "code",
   "execution_count": 6,
   "metadata": {},
   "outputs": [],
   "source": [
    "#extracting all html info\n",
    "import urllib\n",
    "\n",
    "for row_idx, row in dataframe.iterrows():\n",
    "    try:\n",
    "        dataframe.loc[row_idx,'html'] = urllib.request.urlopen((row['url'])).read()\n",
    "    except:\n",
    "        ConnectionResetError=\"connection error\"\n",
    "#t=\"http://google.com\"\n",
    "#urllib.request.urlopen(t).read()"
   ]
  },
  {
   "cell_type": "code",
   "execution_count": null,
   "metadata": {},
   "outputs": [],
   "source": [
    "#import urllib\n",
    "\n",
    "#for row_idx, row in dataframe.iterrows():\n",
    "# #   try:\n",
    "#        dataframe.loc[row_idx,'zipcode'] = urllib.request.urlopen((row['url'])).zipcode\n",
    "#  #  except:\n",
    "  #      ConnectionResetError=\"connection error\"\n",
    "#t=\"http://google.com\"\n",
    "#urllib.request.urlopen(t).read()"
   ]
  },
  {
   "cell_type": "code",
   "execution_count": 78,
   "metadata": {},
   "outputs": [
    {
     "name": "stderr",
     "output_type": "stream",
     "text": [
      "C:\\Users\\AT003502\\Anaconda3\\lib\\site-packages\\bs4\\__init__.py:181: UserWarning: No parser was explicitly specified, so I'm using the best available HTML parser for this system (\"lxml\"). This usually isn't a problem, but if you run this code on another system, or in a different virtual environment, it may use a different parser and behave differently.\n",
      "\n",
      "The code that caused this warning is on line 193 of the file C:\\Users\\AT003502\\Anaconda3\\lib\\runpy.py. To get rid of this warning, change code that looks like this:\n",
      "\n",
      " BeautifulSoup(YOUR_MARKUP})\n",
      "\n",
      "to this:\n",
      "\n",
      " BeautifulSoup(YOUR_MARKUP, \"lxml\")\n",
      "\n",
      "  markup_type=markup_type))\n"
     ]
    }
   ],
   "source": [
    "from bs4 import BeautifulSoup\n",
    "\n",
    "for row_idx, row in dataframe2.iterrows():\n",
    "    try:\n",
    "        soup= BeautifulSoup(row['html'])\n",
    "        dataframe.loc[row_idx,'img_tags']=(str(soup.find_all('img')))\n",
    "        dataframe.loc[row_idx,'meta_tags']=(str(soup.find_all('meta')))\n",
    "        dataframe.loc[row_idx,'script_tags']=(str(soup.find_all('script')))\n",
    "        dataframe.loc[row_idx,'link_tags']=(str(soup.find_all('link')))\n",
    "    except:\n",
    "        continue\n",
    "\n",
    "\n"
   ]
  },
  {
   "cell_type": "markdown",
   "metadata": {},
   "source": [
    "##### For shortened urls  - work required on this"
   ]
  },
  {
   "cell_type": "code",
   "execution_count": 47,
   "metadata": {},
   "outputs": [],
   "source": [
    "#csv.write(dataframe)\n",
    "\n",
    "import pandas as pd\n",
    "# Create a Pandas Excel writer using XlsxWriter as the engine.\n",
    "#writer = pd.ExcelWriter('pandas_simple.xlsx', engine='xlsxwriter')\n",
    "\n",
    "dataframe.to_csv(\"url_dataframe.csv\")"
   ]
  },
  {
   "cell_type": "markdown",
   "metadata": {},
   "source": [
    "### HTML content parsed and table saved"
   ]
  },
  {
   "cell_type": "code",
   "execution_count": 4,
   "metadata": {},
   "outputs": [
    {
     "data": {
      "text/html": [
       "<div>\n",
       "<style scoped>\n",
       "    .dataframe tbody tr th:only-of-type {\n",
       "        vertical-align: middle;\n",
       "    }\n",
       "\n",
       "    .dataframe tbody tr th {\n",
       "        vertical-align: top;\n",
       "    }\n",
       "\n",
       "    .dataframe thead th {\n",
       "        text-align: right;\n",
       "    }\n",
       "</style>\n",
       "<table border=\"1\" class=\"dataframe\">\n",
       "  <thead>\n",
       "    <tr style=\"text-align: right;\">\n",
       "      <th></th>\n",
       "      <th>url</th>\n",
       "      <th>list</th>\n",
       "      <th>LENGTH</th>\n",
       "      <th>RU</th>\n",
       "      <th>Com</th>\n",
       "      <th>Org</th>\n",
       "      <th>Co</th>\n",
       "      <th>IP_add</th>\n",
       "      <th>has_at_symbol</th>\n",
       "      <th>pref_suf</th>\n",
       "      <th>...</th>\n",
       "      <th>org_info</th>\n",
       "      <th>exp_date</th>\n",
       "      <th>creation_date</th>\n",
       "      <th>domain_info</th>\n",
       "      <th>org_dom_match</th>\n",
       "      <th>html</th>\n",
       "      <th>img_tags</th>\n",
       "      <th>meta_tags</th>\n",
       "      <th>script_tags</th>\n",
       "      <th>link_tags</th>\n",
       "    </tr>\n",
       "    <tr>\n",
       "      <th>Index</th>\n",
       "      <th></th>\n",
       "      <th></th>\n",
       "      <th></th>\n",
       "      <th></th>\n",
       "      <th></th>\n",
       "      <th></th>\n",
       "      <th></th>\n",
       "      <th></th>\n",
       "      <th></th>\n",
       "      <th></th>\n",
       "      <th></th>\n",
       "      <th></th>\n",
       "      <th></th>\n",
       "      <th></th>\n",
       "      <th></th>\n",
       "      <th></th>\n",
       "      <th></th>\n",
       "      <th></th>\n",
       "      <th></th>\n",
       "      <th></th>\n",
       "      <th></th>\n",
       "    </tr>\n",
       "  </thead>\n",
       "  <tbody>\n",
       "    <tr>\n",
       "      <th>1</th>\n",
       "      <td>http://google.com</td>\n",
       "      <td>0.0</td>\n",
       "      <td>17.0</td>\n",
       "      <td>0.0</td>\n",
       "      <td>1.0</td>\n",
       "      <td>0.0</td>\n",
       "      <td>0.0</td>\n",
       "      <td>0.0</td>\n",
       "      <td>0.0</td>\n",
       "      <td>0.0</td>\n",
       "      <td>...</td>\n",
       "      <td>Google LLC</td>\n",
       "      <td>NaN</td>\n",
       "      <td>1997-09-15 04:00:00</td>\n",
       "      <td>NaN</td>\n",
       "      <td>1.0</td>\n",
       "      <td>b'&lt;!doctype html&gt;&lt;html itemscope=\"\" itemtype=\"...</td>\n",
       "      <td>[&lt;img alt=\"Google\" height=\"92\" id=\"hplogo\" onl...</td>\n",
       "      <td>[&lt;meta content=\"text/html; charset=utf-8\" http...</td>\n",
       "      <td>[&lt;script nonce=\"dOFDYK5u3kbF4EOBqGI8BA==\"&gt;(fun...</td>\n",
       "      <td>[]</td>\n",
       "    </tr>\n",
       "    <tr>\n",
       "      <th>2</th>\n",
       "      <td>http://facebook.com</td>\n",
       "      <td>0.0</td>\n",
       "      <td>19.0</td>\n",
       "      <td>0.0</td>\n",
       "      <td>1.0</td>\n",
       "      <td>0.0</td>\n",
       "      <td>0.0</td>\n",
       "      <td>0.0</td>\n",
       "      <td>0.0</td>\n",
       "      <td>0.0</td>\n",
       "      <td>...</td>\n",
       "      <td>Facebook, Inc.</td>\n",
       "      <td>2028-03-30 04:00:00</td>\n",
       "      <td>1997-03-29 05:00:00</td>\n",
       "      <td>FACEBOOK.COM</td>\n",
       "      <td>1.0</td>\n",
       "      <td>b'&lt;!DOCTYPE html&gt;\\n&lt;html lang=\"en\" id=\"faceboo...</td>\n",
       "      <td>[&lt;img alt=\"\" class=\"img\" height=\"195\" src=\"htt...</td>\n",
       "      <td>[&lt;meta charset=\"utf-8\"/&gt;, &lt;meta content=\"defau...</td>\n",
       "      <td>[&lt;script&gt;window._cstart=+new Date();&lt;/script&gt;,...</td>\n",
       "      <td>[&lt;link href=\"/osd.xml\" rel=\"search\" title=\"Fac...</td>\n",
       "    </tr>\n",
       "    <tr>\n",
       "      <th>3</th>\n",
       "      <td>http://youtube.com</td>\n",
       "      <td>0.0</td>\n",
       "      <td>18.0</td>\n",
       "      <td>0.0</td>\n",
       "      <td>1.0</td>\n",
       "      <td>0.0</td>\n",
       "      <td>0.0</td>\n",
       "      <td>0.0</td>\n",
       "      <td>0.0</td>\n",
       "      <td>0.0</td>\n",
       "      <td>...</td>\n",
       "      <td>Google LLC</td>\n",
       "      <td>NaN</td>\n",
       "      <td>NaN</td>\n",
       "      <td>NaN</td>\n",
       "      <td>0.0</td>\n",
       "      <td>b'  &lt;!DOCTYPE html&gt;&lt;html lang=\"en\" data-cast-a...</td>\n",
       "      <td>[&lt;img alt=\"\" aria-hidden=\"true\" data-thumb=\"//...</td>\n",
       "      <td>[&lt;meta content=\"Enjoy the videos and music you...</td>\n",
       "      <td>[&lt;script name=\"www-roboto\"&gt;if (document.fonts ...</td>\n",
       "      <td>[&lt;link href=\"/yts/cssbin/www-core-vfly_6Bdv.cs...</td>\n",
       "    </tr>\n",
       "    <tr>\n",
       "      <th>4</th>\n",
       "      <td>http://yahoo.com</td>\n",
       "      <td>0.0</td>\n",
       "      <td>16.0</td>\n",
       "      <td>0.0</td>\n",
       "      <td>1.0</td>\n",
       "      <td>0.0</td>\n",
       "      <td>0.0</td>\n",
       "      <td>0.0</td>\n",
       "      <td>0.0</td>\n",
       "      <td>0.0</td>\n",
       "      <td>...</td>\n",
       "      <td>Yahoo! Inc.</td>\n",
       "      <td>NaN</td>\n",
       "      <td>1995-01-18 05:00:00</td>\n",
       "      <td>NaN</td>\n",
       "      <td>1.0</td>\n",
       "      <td>b'&lt;!DOCTYPE html&gt;\\n&lt;html id=\"atomic\" lang=\"en-...</td>\n",
       "      <td>[&lt;img alt=\"\" class=\"W(100%) Mih(215px) Mih(277...</td>\n",
       "      <td>[&lt;meta content=\"on\" http-equiv=\"x-dns-prefetch...</td>\n",
       "      <td>[&lt;script&gt;\\r\\n    var myYahoostartTime = new Da...</td>\n",
       "      <td>[&lt;link href=\"//s.yimg.com\" rel=\"dns-prefetch\"/...</td>\n",
       "    </tr>\n",
       "    <tr>\n",
       "      <th>5</th>\n",
       "      <td>http://baidu.com</td>\n",
       "      <td>0.0</td>\n",
       "      <td>16.0</td>\n",
       "      <td>0.0</td>\n",
       "      <td>1.0</td>\n",
       "      <td>0.0</td>\n",
       "      <td>0.0</td>\n",
       "      <td>0.0</td>\n",
       "      <td>0.0</td>\n",
       "      <td>0.0</td>\n",
       "      <td>...</td>\n",
       "      <td>NaN</td>\n",
       "      <td>2026-10-11 11:05:17</td>\n",
       "      <td>1999-10-11 11:05:17</td>\n",
       "      <td>NaN</td>\n",
       "      <td>0.0</td>\n",
       "      <td>b'&lt;html&gt;\\n&lt;meta http-equiv=\"refresh\" content=\"...</td>\n",
       "      <td>[]</td>\n",
       "      <td>[&lt;meta content=\"0;url=http://www.baidu.com/\" h...</td>\n",
       "      <td>[]</td>\n",
       "      <td>[]</td>\n",
       "    </tr>\n",
       "  </tbody>\n",
       "</table>\n",
       "<p>5 rows × 29 columns</p>\n",
       "</div>"
      ],
      "text/plain": [
       "                       url  list  LENGTH   RU  Com  Org   Co  IP_add  \\\n",
       "Index                                                                  \n",
       "1        http://google.com   0.0    17.0  0.0  1.0  0.0  0.0     0.0   \n",
       "2      http://facebook.com   0.0    19.0  0.0  1.0  0.0  0.0     0.0   \n",
       "3       http://youtube.com   0.0    18.0  0.0  1.0  0.0  0.0     0.0   \n",
       "4         http://yahoo.com   0.0    16.0  0.0  1.0  0.0  0.0     0.0   \n",
       "5         http://baidu.com   0.0    16.0  0.0  1.0  0.0  0.0     0.0   \n",
       "\n",
       "       has_at_symbol  pref_suf  \\\n",
       "Index                            \n",
       "1                0.0       0.0   \n",
       "2                0.0       0.0   \n",
       "3                0.0       0.0   \n",
       "4                0.0       0.0   \n",
       "5                0.0       0.0   \n",
       "\n",
       "                             ...                                org_info  \\\n",
       "Index                        ...                                           \n",
       "1                            ...                              Google LLC   \n",
       "2                            ...                          Facebook, Inc.   \n",
       "3                            ...                              Google LLC   \n",
       "4                            ...                             Yahoo! Inc.   \n",
       "5                            ...                                     NaN   \n",
       "\n",
       "                  exp_date        creation_date   domain_info org_dom_match  \\\n",
       "Index                                                                         \n",
       "1                      NaN  1997-09-15 04:00:00           NaN           1.0   \n",
       "2      2028-03-30 04:00:00  1997-03-29 05:00:00  FACEBOOK.COM           1.0   \n",
       "3                      NaN                  NaN           NaN           0.0   \n",
       "4                      NaN  1995-01-18 05:00:00           NaN           1.0   \n",
       "5      2026-10-11 11:05:17  1999-10-11 11:05:17           NaN           0.0   \n",
       "\n",
       "                                                    html  \\\n",
       "Index                                                      \n",
       "1      b'<!doctype html><html itemscope=\"\" itemtype=\"...   \n",
       "2      b'<!DOCTYPE html>\\n<html lang=\"en\" id=\"faceboo...   \n",
       "3      b'  <!DOCTYPE html><html lang=\"en\" data-cast-a...   \n",
       "4      b'<!DOCTYPE html>\\n<html id=\"atomic\" lang=\"en-...   \n",
       "5      b'<html>\\n<meta http-equiv=\"refresh\" content=\"...   \n",
       "\n",
       "                                                img_tags  \\\n",
       "Index                                                      \n",
       "1      [<img alt=\"Google\" height=\"92\" id=\"hplogo\" onl...   \n",
       "2      [<img alt=\"\" class=\"img\" height=\"195\" src=\"htt...   \n",
       "3      [<img alt=\"\" aria-hidden=\"true\" data-thumb=\"//...   \n",
       "4      [<img alt=\"\" class=\"W(100%) Mih(215px) Mih(277...   \n",
       "5                                                     []   \n",
       "\n",
       "                                               meta_tags  \\\n",
       "Index                                                      \n",
       "1      [<meta content=\"text/html; charset=utf-8\" http...   \n",
       "2      [<meta charset=\"utf-8\"/>, <meta content=\"defau...   \n",
       "3      [<meta content=\"Enjoy the videos and music you...   \n",
       "4      [<meta content=\"on\" http-equiv=\"x-dns-prefetch...   \n",
       "5      [<meta content=\"0;url=http://www.baidu.com/\" h...   \n",
       "\n",
       "                                             script_tags  \\\n",
       "Index                                                      \n",
       "1      [<script nonce=\"dOFDYK5u3kbF4EOBqGI8BA==\">(fun...   \n",
       "2      [<script>window._cstart=+new Date();</script>,...   \n",
       "3      [<script name=\"www-roboto\">if (document.fonts ...   \n",
       "4      [<script>\\r\\n    var myYahoostartTime = new Da...   \n",
       "5                                                     []   \n",
       "\n",
       "                                               link_tags  \n",
       "Index                                                     \n",
       "1                                                     []  \n",
       "2      [<link href=\"/osd.xml\" rel=\"search\" title=\"Fac...  \n",
       "3      [<link href=\"/yts/cssbin/www-core-vfly_6Bdv.cs...  \n",
       "4      [<link href=\"//s.yimg.com\" rel=\"dns-prefetch\"/...  \n",
       "5                                                     []  \n",
       "\n",
       "[5 rows x 29 columns]"
      ]
     },
     "execution_count": 4,
     "metadata": {},
     "output_type": "execute_result"
    }
   ],
   "source": [
    "\n",
    "DATA_PATH = 'url_dataframe.csv'\n",
    "#DATA_PATH='verified_online.csv'\n",
    "dataframe2 = pd.read_csv(DATA_PATH, index_col=0)\n",
    "dataframe2.head()"
   ]
  },
  {
   "cell_type": "markdown",
   "metadata": {},
   "source": [
    "### Zahoor's code"
   ]
  },
  {
   "cell_type": "code",
   "execution_count": 49,
   "metadata": {},
   "outputs": [],
   "source": [
    "#Length of time website has been registered for\n",
    "\n",
    "##Had to tweak the code Zahoor because it didn't work - you can now use the actual dates\n",
    "import datetime\n",
    "from datetime import date\n",
    "\n",
    "#coerce date column into pandas dates - puts the NaNs as NaTs\n",
    "dataframe2['creation_date']=pd.to_datetime((dataframe2['creation_date']),errors='coerce')\n",
    "type(dataframe2['creation_date'])\n",
    "\n",
    "#adding .days at the end will display it as just days.\n",
    "for row_idx, row in dataframe2.iterrows():\n",
    "    dataframe2.loc[row_idx, 'Length_of_reg_days'] = (datetime.date.today() -  row['creation_date'].date()).days\n"
   ]
  },
  {
   "cell_type": "markdown",
   "metadata": {},
   "source": [
    "### Matt's code"
   ]
  },
  {
   "cell_type": "code",
   "execution_count": 79,
   "metadata": {},
   "outputs": [
    {
     "name": "stderr",
     "output_type": "stream",
     "text": [
      "C:\\Users\\AT003502\\Anaconda3\\lib\\site-packages\\bs4\\__init__.py:181: UserWarning: No parser was explicitly specified, so I'm using the best available HTML parser for this system (\"lxml\"). This usually isn't a problem, but if you run this code on another system, or in a different virtual environment, it may use a different parser and behave differently.\n",
      "\n",
      "The code that caused this warning is on line 193 of the file C:\\Users\\AT003502\\Anaconda3\\lib\\runpy.py. To get rid of this warning, change code that looks like this:\n",
      "\n",
      " BeautifulSoup(YOUR_MARKUP})\n",
      "\n",
      "to this:\n",
      "\n",
      " BeautifulSoup(YOUR_MARKUP, \"lxml\")\n",
      "\n",
      "  markup_type=markup_type))\n"
     ]
    }
   ],
   "source": [
    "# Gets <a> tags from html_code column and print to new column, anchors\n",
    "from bs4 import BeautifulSoup\n",
    "\n",
    "for row_idx, row in dataframe2.iterrows():\n",
    "    try:\n",
    "        soup = BeautifulSoup(row['html'])\n",
    "        dataframe2.loc[row_idx, 'anchors'] = str(soup.a)\n",
    "    except:\n",
    "        dataframe2.loc[row_idx, 'anchors'] = \"Error\"\n",
    "# Need to compare with domain and check for other discrepencies instead"
   ]
  },
  {
   "cell_type": "code",
   "execution_count": 80,
   "metadata": {
    "scrolled": true
   },
   "outputs": [
    {
     "name": "stderr",
     "output_type": "stream",
     "text": [
      "C:\\Users\\AT003502\\Anaconda3\\lib\\site-packages\\bs4\\__init__.py:181: UserWarning: No parser was explicitly specified, so I'm using the best available HTML parser for this system (\"lxml\"). This usually isn't a problem, but if you run this code on another system, or in a different virtual environment, it may use a different parser and behave differently.\n",
      "\n",
      "The code that caused this warning is on line 193 of the file C:\\Users\\AT003502\\Anaconda3\\lib\\runpy.py. To get rid of this warning, change code that looks like this:\n",
      "\n",
      " BeautifulSoup(YOUR_MARKUP})\n",
      "\n",
      "to this:\n",
      "\n",
      " BeautifulSoup(YOUR_MARKUP, \"lxml\")\n",
      "\n",
      "  markup_type=markup_type))\n"
     ]
    }
   ],
   "source": [
    "# Gets <form> tags from html_code column and print to new column, forms\n",
    "for row_idx, row in dataframe2.iterrows():\n",
    "    try:\n",
    "        soup = BeautifulSoup(row['html'])\n",
    "        dataframe2.loc[row_idx, 'forms'] = str(soup.find_all(\"form\"))\n",
    "    except:\n",
    "        dataframe2.loc[row_idx, 'forms'] = \"Error\""
   ]
  },
  {
   "cell_type": "code",
   "execution_count": 160,
   "metadata": {},
   "outputs": [],
   "source": [
    "# SFH has about:blank in form handler\n",
    "# Tries to submit to email in html code\n",
    "#sus_list = ['mail()','mailto:']\n",
    "#for i in sus_list:\n",
    "  #  dataframe2['submit_to_email'] = dataframe2.loc[i]= 1.0 if i in dataframe2['html'] else 0.0\n",
    "\n",
    "\n",
    "#sub['submit_to_email2'] = sub.loc['mailto:'] = 1.0 if 'mailto:' in sub['html_code'] else 0.0\n",
    "#dataframe2['SFH_about:blank'] = dataframe2.loc['about:blank'] = 1.0 if 'about:blank' in dataframe2['forms'] else 0.0\n",
    "\n",
    "for row_idx, row in dataframe2.iterrows():\n",
    "    try:\n",
    "        dataframe2.loc[row_idx,'mail()'] = dataframe2.loc['mail()'] = 1.0 if 'mail()' in row['html'] else 0.0\n",
    "        dataframe2.loc[row_idx,'mail:'] = dataframe2.loc['mailto:'] = 1.0 if 'mailto:' in row['html'] else 0.0\n",
    "        dataframe2.loc[row_idx,'DoubleClickDisabled'] = dataframe2.loc['event.button==2'] = 1.0 if 'event.button==2' in row['html'] else 0.0\n",
    "        dataframe2.loc[row_idx,'SFH_about:blank'] = dataframe2.loc['about:blank'] = 1.0 if 'about:blank' in row['forms'] else 0.0\n",
    "    except:\n",
    "        continue\n",
    "    "
   ]
  },
  {
   "cell_type": "code",
   "execution_count": 162,
   "metadata": {},
   "outputs": [
    {
     "name": "stderr",
     "output_type": "stream",
     "text": [
      "C:\\Users\\AT003502\\Anaconda3\\lib\\site-packages\\bs4\\__init__.py:181: UserWarning: No parser was explicitly specified, so I'm using the best available HTML parser for this system (\"lxml\"). This usually isn't a problem, but if you run this code on another system, or in a different virtual environment, it may use a different parser and behave differently.\n",
      "\n",
      "The code that caused this warning is on line 193 of the file C:\\Users\\AT003502\\Anaconda3\\lib\\runpy.py. To get rid of this warning, change code that looks like this:\n",
      "\n",
      " BeautifulSoup(YOUR_MARKUP})\n",
      "\n",
      "to this:\n",
      "\n",
      " BeautifulSoup(YOUR_MARKUP, \"lxml\")\n",
      "\n",
      "  markup_type=markup_type))\n"
     ]
    }
   ],
   "source": [
    "# Check for onMouseOver\n",
    "for row_idx, row in dataframe2.iterrows():\n",
    "    try:\n",
    "        soup = BeautifulSoup(row['html'])\n",
    "        dataframe2.loc[row_idx, 'MouseOver'] = str(soup.find_all(onmouseover=True))\n",
    "    except:\n",
    "        continue"
   ]
  },
  {
   "cell_type": "code",
   "execution_count": null,
   "metadata": {},
   "outputs": [],
   "source": [
    "#number of redirects\n",
    "for row_idx, row in dataframe2.iterrows():\n",
    "    try:\n",
    "        dataframe2.loc[row_idx, 'redirect_suspicious'] = (len(requests.get(row['url']).history)) \n",
    "        \n",
    "    except:\n",
    "        continue"
   ]
  },
  {
   "cell_type": "code",
   "execution_count": 85,
   "metadata": {
    "scrolled": true
   },
   "outputs": [
    {
     "name": "stderr",
     "output_type": "stream",
     "text": [
      "C:\\Users\\AT003502\\Anaconda3\\lib\\site-packages\\bs4\\__init__.py:181: UserWarning: No parser was explicitly specified, so I'm using the best available HTML parser for this system (\"lxml\"). This usually isn't a problem, but if you run this code on another system, or in a different virtual environment, it may use a different parser and behave differently.\n",
      "\n",
      "The code that caused this warning is on line 193 of the file C:\\Users\\AT003502\\Anaconda3\\lib\\runpy.py. To get rid of this warning, change code that looks like this:\n",
      "\n",
      " BeautifulSoup(YOUR_MARKUP})\n",
      "\n",
      "to this:\n",
      "\n",
      " BeautifulSoup(YOUR_MARKUP, \"lxml\")\n",
      "\n",
      "  markup_type=markup_type))\n"
     ]
    }
   ],
   "source": [
    "# Get favicon link \n",
    "for row_idx, row in dataframe2.iterrows():\n",
    "    try:\n",
    "       # page = urllib.request.urlopen(row['url'])\n",
    "        soup = BeautifulSoup(row['html'])\n",
    "        icon_link = soup.find(\"link\", rel=\"shortcut icon\")\n",
    "        dataframe2.loc[row_idx, 'fav_link'] = str(icon_link)\n",
    "    except:\n",
    "        dataframe2.loc[row_idx, 'fav_link'] = \"Error\""
   ]
  },
  {
   "cell_type": "code",
   "execution_count": 1,
   "metadata": {},
   "outputs": [
    {
     "ename": "NameError",
     "evalue": "name 'dataframe2' is not defined",
     "output_type": "error",
     "traceback": [
      "\u001b[1;31m---------------------------------------------------------------------------\u001b[0m",
      "\u001b[1;31mNameError\u001b[0m                                 Traceback (most recent call last)",
      "\u001b[1;32m<ipython-input-1-ce08d106cb4e>\u001b[0m in \u001b[0;36m<module>\u001b[1;34m()\u001b[0m\n\u001b[1;32m----> 1\u001b[1;33m \u001b[0mdataframe2\u001b[0m\u001b[1;33m.\u001b[0m\u001b[0msample\u001b[0m\u001b[1;33m(\u001b[0m\u001b[1;36m12\u001b[0m\u001b[1;33m)\u001b[0m\u001b[1;33m\u001b[0m\u001b[0m\n\u001b[0m",
      "\u001b[1;31mNameError\u001b[0m: name 'dataframe2' is not defined"
     ]
    }
   ],
   "source": [
    "dataframe2.sample(12)"
   ]
  },
  {
   "cell_type": "markdown",
   "metadata": {},
   "source": [
    "## Model test/ train"
   ]
  },
  {
   "cell_type": "code",
   "execution_count": 110,
   "metadata": {},
   "outputs": [
    {
     "data": {
      "text/html": [
       "<div>\n",
       "<style scoped>\n",
       "    .dataframe tbody tr th:only-of-type {\n",
       "        vertical-align: middle;\n",
       "    }\n",
       "\n",
       "    .dataframe tbody tr th {\n",
       "        vertical-align: top;\n",
       "    }\n",
       "\n",
       "    .dataframe thead th {\n",
       "        text-align: right;\n",
       "    }\n",
       "</style>\n",
       "<table border=\"1\" class=\"dataframe\">\n",
       "  <thead>\n",
       "    <tr style=\"text-align: right;\">\n",
       "      <th></th>\n",
       "      <th>url</th>\n",
       "      <th>list</th>\n",
       "      <th>LENGTH</th>\n",
       "      <th>RU</th>\n",
       "      <th>Com</th>\n",
       "      <th>Org</th>\n",
       "      <th>Co</th>\n",
       "      <th>IP_add</th>\n",
       "      <th>has_at_symbol</th>\n",
       "      <th>pref_suf</th>\n",
       "      <th>...</th>\n",
       "      <th>Length_of_reg_days</th>\n",
       "      <th>anchors</th>\n",
       "      <th>forms</th>\n",
       "      <th>submit_to_email</th>\n",
       "      <th>SFH_about:blank</th>\n",
       "      <th>DoubleClickDisabled</th>\n",
       "      <th>MouseOver</th>\n",
       "      <th>redirects</th>\n",
       "      <th>fav_link</th>\n",
       "      <th>soup</th>\n",
       "    </tr>\n",
       "    <tr>\n",
       "      <th>Index</th>\n",
       "      <th></th>\n",
       "      <th></th>\n",
       "      <th></th>\n",
       "      <th></th>\n",
       "      <th></th>\n",
       "      <th></th>\n",
       "      <th></th>\n",
       "      <th></th>\n",
       "      <th></th>\n",
       "      <th></th>\n",
       "      <th></th>\n",
       "      <th></th>\n",
       "      <th></th>\n",
       "      <th></th>\n",
       "      <th></th>\n",
       "      <th></th>\n",
       "      <th></th>\n",
       "      <th></th>\n",
       "      <th></th>\n",
       "      <th></th>\n",
       "      <th></th>\n",
       "    </tr>\n",
       "  </thead>\n",
       "  <tbody>\n",
       "    <tr>\n",
       "      <th>320</th>\n",
       "      <td>http://google.com.bd</td>\n",
       "      <td>0.0</td>\n",
       "      <td>20.0</td>\n",
       "      <td>0.0</td>\n",
       "      <td>1.0</td>\n",
       "      <td>0.0</td>\n",
       "      <td>0.0</td>\n",
       "      <td>0.0</td>\n",
       "      <td>0.0</td>\n",
       "      <td>0.0</td>\n",
       "      <td>...</td>\n",
       "      <td>NaN</td>\n",
       "      <td>&lt;a class=\"gb1\" href=\"http://www.google.co.uk/i...</td>\n",
       "      <td>[&lt;form action=\"/search\" name=\"f\"&gt;&lt;table cellpa...</td>\n",
       "      <td>1.0</td>\n",
       "      <td>1.0</td>\n",
       "      <td>None</td>\n",
       "      <td>[]</td>\n",
       "      <td>Error</td>\n",
       "      <td>None</td>\n",
       "      <td>Errr</td>\n",
       "    </tr>\n",
       "    <tr>\n",
       "      <th>269</th>\n",
       "      <td>http://reuters.com</td>\n",
       "      <td>0.0</td>\n",
       "      <td>18.0</td>\n",
       "      <td>0.0</td>\n",
       "      <td>1.0</td>\n",
       "      <td>0.0</td>\n",
       "      <td>0.0</td>\n",
       "      <td>0.0</td>\n",
       "      <td>0.0</td>\n",
       "      <td>0.0</td>\n",
       "      <td>...</td>\n",
       "      <td>NaN</td>\n",
       "      <td>&lt;a href=\"/\" title=\"Reuters\"&gt;&lt;/a&gt;</td>\n",
       "      <td>[&lt;form action=\"/search/news\" autocomplete=\"off...</td>\n",
       "      <td>1.0</td>\n",
       "      <td>1.0</td>\n",
       "      <td>None</td>\n",
       "      <td>[]</td>\n",
       "      <td>Error</td>\n",
       "      <td>&lt;link href=\"https://s3.reutersmedia.net/resour...</td>\n",
       "      <td>Errr</td>\n",
       "    </tr>\n",
       "    <tr>\n",
       "      <th>361</th>\n",
       "      <td>http://doubleclick.com</td>\n",
       "      <td>0.0</td>\n",
       "      <td>22.0</td>\n",
       "      <td>0.0</td>\n",
       "      <td>1.0</td>\n",
       "      <td>0.0</td>\n",
       "      <td>0.0</td>\n",
       "      <td>0.0</td>\n",
       "      <td>0.0</td>\n",
       "      <td>0.0</td>\n",
       "      <td>...</td>\n",
       "      <td>9990.0</td>\n",
       "      <td>&lt;a class=\"h-c-header__company-logo-link\" data-...</td>\n",
       "      <td>[]</td>\n",
       "      <td>1.0</td>\n",
       "      <td>1.0</td>\n",
       "      <td>None</td>\n",
       "      <td>[]</td>\n",
       "      <td>Error</td>\n",
       "      <td>&lt;link href=\"https://storage.googleapis.com/ope...</td>\n",
       "      <td>Errr</td>\n",
       "    </tr>\n",
       "    <tr>\n",
       "      <th>684</th>\n",
       "      <td>http://thinks.tv</td>\n",
       "      <td>1.0</td>\n",
       "      <td>16.0</td>\n",
       "      <td>0.0</td>\n",
       "      <td>0.0</td>\n",
       "      <td>0.0</td>\n",
       "      <td>0.0</td>\n",
       "      <td>0.0</td>\n",
       "      <td>0.0</td>\n",
       "      <td>0.0</td>\n",
       "      <td>...</td>\n",
       "      <td>NaN</td>\n",
       "      <td>Error</td>\n",
       "      <td>Error</td>\n",
       "      <td>1.0</td>\n",
       "      <td>1.0</td>\n",
       "      <td>error</td>\n",
       "      <td>None Found/Error</td>\n",
       "      <td>Error</td>\n",
       "      <td>Error</td>\n",
       "      <td>Errr</td>\n",
       "    </tr>\n",
       "    <tr>\n",
       "      <th>198</th>\n",
       "      <td>http://indeed.com</td>\n",
       "      <td>0.0</td>\n",
       "      <td>17.0</td>\n",
       "      <td>0.0</td>\n",
       "      <td>1.0</td>\n",
       "      <td>0.0</td>\n",
       "      <td>0.0</td>\n",
       "      <td>0.0</td>\n",
       "      <td>0.0</td>\n",
       "      <td>0.0</td>\n",
       "      <td>...</td>\n",
       "      <td>7493.0</td>\n",
       "      <td>&lt;a class=\"icl-DesktopGlobalHeader-link\" href=\"...</td>\n",
       "      <td>[&lt;form action=\"/jobs\" class=\"icl-WhatWhere\" me...</td>\n",
       "      <td>1.0</td>\n",
       "      <td>1.0</td>\n",
       "      <td>None</td>\n",
       "      <td>[]</td>\n",
       "      <td>Error</td>\n",
       "      <td>None</td>\n",
       "      <td>Errr</td>\n",
       "    </tr>\n",
       "    <tr>\n",
       "      <th>221</th>\n",
       "      <td>http://thefreedictionary.com</td>\n",
       "      <td>0.0</td>\n",
       "      <td>28.0</td>\n",
       "      <td>0.0</td>\n",
       "      <td>1.0</td>\n",
       "      <td>0.0</td>\n",
       "      <td>0.0</td>\n",
       "      <td>0.0</td>\n",
       "      <td>0.0</td>\n",
       "      <td>0.0</td>\n",
       "      <td>...</td>\n",
       "      <td>5600.0</td>\n",
       "      <td>&lt;a href=\"/_/hp/Controls/printer-friendly.aspx?...</td>\n",
       "      <td>[&lt;form action=\"//www.thefreedictionary.com/_/s...</td>\n",
       "      <td>1.0</td>\n",
       "      <td>1.0</td>\n",
       "      <td>None</td>\n",
       "      <td>[]</td>\n",
       "      <td>Error</td>\n",
       "      <td>None</td>\n",
       "      <td>Errr</td>\n",
       "    </tr>\n",
       "    <tr>\n",
       "      <th>146</th>\n",
       "      <td>http://tierehelfenkindern.de/verification/id=7...</td>\n",
       "      <td>1.0</td>\n",
       "      <td>55.0</td>\n",
       "      <td>0.0</td>\n",
       "      <td>0.0</td>\n",
       "      <td>0.0</td>\n",
       "      <td>0.0</td>\n",
       "      <td>0.0</td>\n",
       "      <td>0.0</td>\n",
       "      <td>0.0</td>\n",
       "      <td>...</td>\n",
       "      <td>NaN</td>\n",
       "      <td>Error</td>\n",
       "      <td>Error</td>\n",
       "      <td>1.0</td>\n",
       "      <td>1.0</td>\n",
       "      <td>error</td>\n",
       "      <td>None Found/Error</td>\n",
       "      <td>Error</td>\n",
       "      <td>Error</td>\n",
       "      <td>Errr</td>\n",
       "    </tr>\n",
       "    <tr>\n",
       "      <th>401</th>\n",
       "      <td>http://habrahabr.ru</td>\n",
       "      <td>0.0</td>\n",
       "      <td>19.0</td>\n",
       "      <td>1.0</td>\n",
       "      <td>0.0</td>\n",
       "      <td>0.0</td>\n",
       "      <td>0.0</td>\n",
       "      <td>0.0</td>\n",
       "      <td>0.0</td>\n",
       "      <td>0.0</td>\n",
       "      <td>...</td>\n",
       "      <td>4553.0</td>\n",
       "      <td>&lt;a class=\"current\" href=\"https://habr.com/?utm...</td>\n",
       "      <td>[&lt;form action=\"/search/#h\" class=\"search-form\"...</td>\n",
       "      <td>1.0</td>\n",
       "      <td>1.0</td>\n",
       "      <td>None</td>\n",
       "      <td>[]</td>\n",
       "      <td>Error</td>\n",
       "      <td>None</td>\n",
       "      <td>Errr</td>\n",
       "    </tr>\n",
       "    <tr>\n",
       "      <th>592</th>\n",
       "      <td>http://shadyrunstudios.tripod.com</td>\n",
       "      <td>1.0</td>\n",
       "      <td>33.0</td>\n",
       "      <td>0.0</td>\n",
       "      <td>1.0</td>\n",
       "      <td>0.0</td>\n",
       "      <td>0.0</td>\n",
       "      <td>0.0</td>\n",
       "      <td>0.0</td>\n",
       "      <td>0.0</td>\n",
       "      <td>...</td>\n",
       "      <td>8771.0</td>\n",
       "      <td>&lt;a href=\"http://adtrack.ministerial5.com/click...</td>\n",
       "      <td>[&lt;form action=\"http://svcs.tripod.lycos.com/sv...</td>\n",
       "      <td>1.0</td>\n",
       "      <td>1.0</td>\n",
       "      <td>None</td>\n",
       "      <td>[]</td>\n",
       "      <td>Error</td>\n",
       "      <td>None</td>\n",
       "      <td>Errr</td>\n",
       "    </tr>\n",
       "    <tr>\n",
       "      <th>820</th>\n",
       "      <td>http://cheatyworld.com</td>\n",
       "      <td>1.0</td>\n",
       "      <td>22.0</td>\n",
       "      <td>0.0</td>\n",
       "      <td>1.0</td>\n",
       "      <td>0.0</td>\n",
       "      <td>0.0</td>\n",
       "      <td>0.0</td>\n",
       "      <td>0.0</td>\n",
       "      <td>0.0</td>\n",
       "      <td>...</td>\n",
       "      <td>1061.0</td>\n",
       "      <td>Error</td>\n",
       "      <td>Error</td>\n",
       "      <td>1.0</td>\n",
       "      <td>1.0</td>\n",
       "      <td>error</td>\n",
       "      <td>None Found/Error</td>\n",
       "      <td>Error</td>\n",
       "      <td>Error</td>\n",
       "      <td>Errr</td>\n",
       "    </tr>\n",
       "  </tbody>\n",
       "</table>\n",
       "<p>10 rows × 40 columns</p>\n",
       "</div>"
      ],
      "text/plain": [
       "                                                     url  list  LENGTH   RU  \\\n",
       "Index                                                                         \n",
       "320                                 http://google.com.bd   0.0    20.0  0.0   \n",
       "269                                   http://reuters.com   0.0    18.0  0.0   \n",
       "361                               http://doubleclick.com   0.0    22.0  0.0   \n",
       "684                                     http://thinks.tv   1.0    16.0  0.0   \n",
       "198                                    http://indeed.com   0.0    17.0  0.0   \n",
       "221                         http://thefreedictionary.com   0.0    28.0  0.0   \n",
       "146    http://tierehelfenkindern.de/verification/id=7...   1.0    55.0  0.0   \n",
       "401                                  http://habrahabr.ru   0.0    19.0  1.0   \n",
       "592                    http://shadyrunstudios.tripod.com   1.0    33.0  0.0   \n",
       "820                               http://cheatyworld.com   1.0    22.0  0.0   \n",
       "\n",
       "       Com  Org   Co  IP_add  has_at_symbol  pref_suf  ...   \\\n",
       "Index                                                  ...    \n",
       "320    1.0  0.0  0.0     0.0            0.0       0.0  ...    \n",
       "269    1.0  0.0  0.0     0.0            0.0       0.0  ...    \n",
       "361    1.0  0.0  0.0     0.0            0.0       0.0  ...    \n",
       "684    0.0  0.0  0.0     0.0            0.0       0.0  ...    \n",
       "198    1.0  0.0  0.0     0.0            0.0       0.0  ...    \n",
       "221    1.0  0.0  0.0     0.0            0.0       0.0  ...    \n",
       "146    0.0  0.0  0.0     0.0            0.0       0.0  ...    \n",
       "401    0.0  0.0  0.0     0.0            0.0       0.0  ...    \n",
       "592    1.0  0.0  0.0     0.0            0.0       0.0  ...    \n",
       "820    1.0  0.0  0.0     0.0            0.0       0.0  ...    \n",
       "\n",
       "       Length_of_reg_days                                            anchors  \\\n",
       "Index                                                                          \n",
       "320                   NaN  <a class=\"gb1\" href=\"http://www.google.co.uk/i...   \n",
       "269                   NaN                   <a href=\"/\" title=\"Reuters\"></a>   \n",
       "361                9990.0  <a class=\"h-c-header__company-logo-link\" data-...   \n",
       "684                   NaN                                              Error   \n",
       "198                7493.0  <a class=\"icl-DesktopGlobalHeader-link\" href=\"...   \n",
       "221                5600.0  <a href=\"/_/hp/Controls/printer-friendly.aspx?...   \n",
       "146                   NaN                                              Error   \n",
       "401                4553.0  <a class=\"current\" href=\"https://habr.com/?utm...   \n",
       "592                8771.0  <a href=\"http://adtrack.ministerial5.com/click...   \n",
       "820                1061.0                                              Error   \n",
       "\n",
       "                                                   forms submit_to_email  \\\n",
       "Index                                                                      \n",
       "320    [<form action=\"/search\" name=\"f\"><table cellpa...             1.0   \n",
       "269    [<form action=\"/search/news\" autocomplete=\"off...             1.0   \n",
       "361                                                   []             1.0   \n",
       "684                                                Error             1.0   \n",
       "198    [<form action=\"/jobs\" class=\"icl-WhatWhere\" me...             1.0   \n",
       "221    [<form action=\"//www.thefreedictionary.com/_/s...             1.0   \n",
       "146                                                Error             1.0   \n",
       "401    [<form action=\"/search/#h\" class=\"search-form\"...             1.0   \n",
       "592    [<form action=\"http://svcs.tripod.lycos.com/sv...             1.0   \n",
       "820                                                Error             1.0   \n",
       "\n",
       "      SFH_about:blank DoubleClickDisabled         MouseOver  redirects  \\\n",
       "Index                                                                    \n",
       "320               1.0                None                []      Error   \n",
       "269               1.0                None                []      Error   \n",
       "361               1.0                None                []      Error   \n",
       "684               1.0               error  None Found/Error      Error   \n",
       "198               1.0                None                []      Error   \n",
       "221               1.0                None                []      Error   \n",
       "146               1.0               error  None Found/Error      Error   \n",
       "401               1.0                None                []      Error   \n",
       "592               1.0                None                []      Error   \n",
       "820               1.0               error  None Found/Error      Error   \n",
       "\n",
       "                                                fav_link  soup  \n",
       "Index                                                           \n",
       "320                                                 None  Errr  \n",
       "269    <link href=\"https://s3.reutersmedia.net/resour...  Errr  \n",
       "361    <link href=\"https://storage.googleapis.com/ope...  Errr  \n",
       "684                                                Error  Errr  \n",
       "198                                                 None  Errr  \n",
       "221                                                 None  Errr  \n",
       "146                                                Error  Errr  \n",
       "401                                                 None  Errr  \n",
       "592                                                 None  Errr  \n",
       "820                                                Error  Errr  \n",
       "\n",
       "[10 rows x 40 columns]"
      ]
     },
     "execution_count": 110,
     "metadata": {},
     "output_type": "execute_result"
    }
   ],
   "source": [
    "##Not sure that the doubleclicks, SFH and submit to email is working properly because they are all given value of 1\n",
    "\n",
    "dataframe2.sample(10)\n",
    "#fuzzyhash"
   ]
  },
  {
   "cell_type": "code",
   "execution_count": null,
   "metadata": {},
   "outputs": [],
   "source": [
    "data = dataframe.values\n",
    "labels = dataframe[['list']].values\n",
    "labels = labels.reshape(len(labels),)"
   ]
  },
  {
   "cell_type": "code",
   "execution_count": null,
   "metadata": {},
   "outputs": [],
   "source": [
    "data_train, data_test, labels_train, labels_test = train_test_split(data, labels, test_size=0.25)"
   ]
  },
  {
   "cell_type": "code",
   "execution_count": null,
   "metadata": {},
   "outputs": [],
   "source": [
    "classifier = LogisticRegression(penalty='l2', C=2.0)"
   ]
  },
  {
   "cell_type": "code",
   "execution_count": null,
   "metadata": {},
   "outputs": [],
   "source": [
    "classifier.fit(data_train, labels_train)"
   ]
  },
  {
   "cell_type": "code",
   "execution_count": null,
   "metadata": {},
   "outputs": [],
   "source": [
    "sklearn.metrics.accuracy_score(classifier.predict(data_test), labels_test)"
   ]
  }
 ],
 "metadata": {
  "kernelspec": {
   "display_name": "Python 3",
   "language": "python",
   "name": "python3"
  },
  "language_info": {
   "codemirror_mode": {
    "name": "ipython",
    "version": 3
   },
   "file_extension": ".py",
   "mimetype": "text/x-python",
   "name": "python",
   "nbconvert_exporter": "python",
   "pygments_lexer": "ipython3",
   "version": "3.6.5"
  }
 },
 "nbformat": 4,
 "nbformat_minor": 2
}
